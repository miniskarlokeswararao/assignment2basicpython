{
 "cells": [
  {
   "cell_type": "code",
   "execution_count": 2,
   "id": "d8d00983-f9b7-47de-85e1-a685fd212e0f",
   "metadata": {},
   "outputs": [
    {
     "name": "stdout",
     "output_type": "stream",
     "text": [
      "There are two boolan data type are True or  false\n",
      "True <class 'bool'>\n",
      "False <class 'bool'>\n"
     ]
    }
   ],
   "source": [
    "#assignment 2 basic python\n",
    "#1.1.What are the two values of the Boolean data type? How do you write them?\n",
    "print('There are two boolan data type are True or  false')\n",
    "a=True\n",
    "print(a,type(a))\n",
    "b=False\n",
    "print(b,type(b))"
   ]
  },
  {
   "cell_type": "code",
   "execution_count": 4,
   "id": "0d20573d-db7a-4139-a9be-f428a8f391ad",
   "metadata": {},
   "outputs": [
    {
     "name": "stdout",
     "output_type": "stream",
     "text": [
      "2.What are the three different types of Boolean operators?\n",
      "ans) AND,OR,NOT OR,NOT AND\n"
     ]
    }
   ],
   "source": [
    "print('2.What are the three different types of Boolean operators?')\n",
    "print('ans) AND,OR,NOT OR,NOT AND')\n"
   ]
  },
  {
   "cell_type": "code",
   "execution_count": 62,
   "id": "7f972167-9e66-4950-a5b1-f4aa08885f7f",
   "metadata": {},
   "outputs": [
    {
     "name": "stdout",
     "output_type": "stream",
     "text": [
      "Make a list of each Boolean operator&#39;s truth tables i.e. every possible combination of Bolean values for the operator and what it evaluate \n",
      "a    b      a&b----->and\n",
      "0    0      0           \n",
      "0    1      0           \n",
      "1    0      1           \n",
      "1    1      1           \n",
      "----------------------------------\n",
      "-------------------------OR GATE-----------------------------------------------\n",
      "-----  ----a                     b                    a or b    \n",
      "0 0 -----> 0 \t \t \t 0 \t\t\t 0\n",
      "1 0 -----> 0 \t \t \t 1 \t\t\t 1\n",
      "2 0 -----> 1 \t \t \t 0 \t\t\t 1\n",
      "3 0 -----> 1 \t \t \t 1 \t\t\t 1\n",
      "---------------------------------------------------------------------------------------------\n",
      "-------------------------NOR GATE-----------------------------------------------\n",
      "-----  ----a                     b                    a or b    \n",
      "0 0 -----> 0 \t \t \t 0 \t\t\t 1\n",
      "1 0 -----> 0 \t \t \t 1 \t\t\t 0\n",
      "2 0 -----> 1 \t \t \t 0 \t\t\t 0\n",
      "3 0 -----> 1 \t \t \t 1 \t\t\t 0\n",
      "---------------------------------------------------------------------------------------------\n",
      "-------------------------Nand GATE-----------------------------------------------\n",
      "-----  ----a                     b                    a or b    \n",
      "0 0 -----> 0 \t \t \t 0 \t\t\t 1\n",
      "1 0 -----> 0 \t \t \t 1 \t\t\t 1\n",
      "2 0 -----> 1 \t \t \t 0 \t\t\t 1\n",
      "3 0 -----> 1 \t \t \t 1 \t\t\t 0\n",
      "---------------------------------------------------------------------------------------------\n"
     ]
    }
   ],
   "source": [
    "print('Make a list of each Boolean operator&#39;s truth tables i.e. every possible combination of Bolean values for the operator and what it evaluate ')\n",
    "print('a    b      a&b----->and')\n",
    "print('0    0      0           ')\n",
    "print('0    1      0           ')\n",
    "print('1    0      1           ')\n",
    "print('1    1      1           ')\n",
    "print('----------------------------------')\n",
    "#\"ss=[[0,0],[0,1],[1,0],[1,1]]\n",
    "#print(ss[0][0] or ss[0][1])\n",
    "#print('->a                 b                 a or b')\n",
    "#for i in range(0,len(ss)):\n",
    "    #print('a               b             a or b')\n",
    "    #for j in range(0,2):\n",
    "        #print('a               b             a or b')\n",
    "        #print([i,j],ss[i][j],\"\\t\\t\",ss[i][j],\"\\t\\t\",ss[i][j]*ss[i][j])\n",
    "print(\"-------------------------OR GATE-----------------------------------------------\")\n",
    "ss=[[0,0],[0,1],[1,0],[1,1]]\n",
    "print(\"-----  ----a                     b                    a or b    \")\n",
    "for i in range(0,len(ss)):\n",
    "    j=0\n",
    "    if(j<2):\n",
    "        print(i,j,\"----->\",ss[i][j],\"\\t \\t \\t\",ss[i][j+1],\"\\t\\t\\t\",ss[i][j] or ss[i][j+1])\n",
    "print(\"---------------------------------------------------------------------------------------------\")\n",
    "print(\"-------------------------NOR GATE-----------------------------------------------\")\n",
    "ss=[[0,0],[0,1],[1,0],[1,1]]\n",
    "print(\"-----  ----a                     b                    a or b    \")\n",
    "for i in range(0,len(ss)):\n",
    "    j=0\n",
    "    if(j<2):\n",
    "        #print(i,j,\"----->\",ss[i][j],\"\\t \\t \\t\",ss[i][j+1],\"\\t\\t\\t\",bool(not(ss[i][j] or ss[i][j+1])))\n",
    "        #print(i,j,\"----->\",ss[i][j],\"\\t \\t \\t\",ss[i][j+1],\"\\t\\t\\t\",~(ss[i][j] or ss[i][j+1]))\n",
    "        print(i,j,\"----->\",ss[i][j],\"\\t \\t \\t\",ss[i][j+1],\"\\t\\t\\t\",int(not((ss[i][j]   or ss[i][j+1]))))\n",
    "print(\"---------------------------------------------------------------------------------------------\")\n",
    "print(\"-------------------------Nand GATE-----------------------------------------------\")\n",
    "ss=[[0,0],[0,1],[1,0],[1,1]]\n",
    "print(\"-----  ----a                     b                    a or b    \")\n",
    "for i in range(0,len(ss)):\n",
    "    j=0\n",
    "    if(j<2):\n",
    "        #print(i,j,\"----->\",ss[i][j],\"\\t \\t \\t\",ss[i][j+1],\"\\t\\t\\t\",bool(not(ss[i][j] or ss[i][j+1])))\n",
    "        #print(i,j,\"----->\",ss[i][j],\"\\t \\t \\t\",ss[i][j+1],\"\\t\\t\\t\",~(ss[i][j] or ss[i][j+1]))\n",
    "        print(i,j,\"----->\",ss[i][j],\"\\t \\t \\t\",ss[i][j+1],\"\\t\\t\\t\",int(not((ss[i][j]   and  ss[i][j+1]))))\n",
    "print(\"---------------------------------------------------------------------------------------------\")"
   ]
  },
  {
   "cell_type": "code",
   "execution_count": 68,
   "id": "ec73c34e-e73c-47b3-8501-2ec0c2c1de58",
   "metadata": {},
   "outputs": [
    {
     "name": "stdout",
     "output_type": "stream",
     "text": [
      "False\n",
      "False\n",
      "False\n",
      "False\n",
      "True\n"
     ]
    }
   ],
   "source": [
    "\"\"\"(5 &gt; 4) and (3 == 5)\n",
    "not (5 &gt; 4)\n",
    "(5 &gt; 4) or (3 == 5)\n",
    "not ((5 &gt; 4) or (3 == 5)) \n",
    "(True and True) and (True == False) \n",
    "(not False) or (not True)\"\"\"\n",
    "print((5&4) and (3==5))\n",
    "print(not (5 & 4))\n",
    "print(not ((5 & 4) or (3 == 5))) \n",
    "print((True and True) and (True == False))\n",
    "print((not False) or (not True))"
   ]
  },
  {
   "cell_type": "code",
   "execution_count": 3,
   "id": "1bba2c1d-030c-448f-8d12-92be250536bf",
   "metadata": {},
   "outputs": [
    {
     "name": "stdout",
     "output_type": "stream",
     "text": [
      "5.What are the six comparison operators?\n",
      "=!(not equal to)  \n",
      " ==(equal to) \n",
      " >(grearther) \n",
      " <(less than) \n",
      " >=(greather equal to \n",
      " <=(less than equal to)\n"
     ]
    }
   ],
   "source": [
    "print(\"5.What are the six comparison operators?\")\n",
    "print(\"=!(not equal to)\",\" \\n ==(equal to)\",\"\\n >(grearther)\",\"\\n <(less than)\",\"\\n >=(greather equal to\",\"\\n <=(less than equal to)\")"
   ]
  },
  {
   "cell_type": "code",
   "execution_count": 6,
   "id": "48aaa3a6-f1a4-4609-9f6d-b88f7b70bec5",
   "metadata": {},
   "outputs": [
    {
     "name": "stdout",
     "output_type": "stream",
     "text": [
      "6. How do you tell the difference between the equal to and assignment operators?Describe a condition and when you would use one.\n",
      "assignment operator a= 5\n",
      "True --->its an equal to operator\n"
     ]
    }
   ],
   "source": [
    "print(\"6. How do you tell the difference between the equal to and assignment operators?Describe a condition and when you would use one.\")\n",
    "a=5\n",
    "print(\"assignment operator a=\",a)\n",
    "print(2==2,\"--->its an equal to operator\")"
   ]
  },
  {
   "cell_type": "code",
   "execution_count": 8,
   "id": "8c1a582b-39f8-4329-b07e-47c2a86839c3",
   "metadata": {},
   "outputs": [
    {
     "name": "stdout",
     "output_type": "stream",
     "text": [
      "7.following\n",
      "---------------------------\n",
      "7.following\n",
      "ham\n",
      "spam\n",
      "spam\n"
     ]
    }
   ],
   "source": [
    "print(\"7.following\")\n",
    "spam = 0\n",
    "if spam == 10:\n",
    "    print('eggs')\n",
    "    if spam > 5:\n",
    "        print('bacon')\n",
    "    else:\n",
    "        print('ham')\n",
    "        print('spam')\n",
    "        print('spam')\n",
    "print(\"---------------------------\")\n",
    "print(\"7.following\")\n",
    "spam = 0\n",
    "if spam == 10:\n",
    "    print('eggs')\n",
    "if spam > 5:\n",
    "    print('bacon')\n",
    "else:\n",
    "    print('ham')\n",
    "    print('spam')\n",
    "    print('spam')\n"
   ]
  },
  {
   "cell_type": "code",
   "execution_count": null,
   "id": "cbdcbf34-38e7-4b9d-ad19-d93a3dd96d98",
   "metadata": {},
   "outputs": [],
   "source": [
    "print(\"8. Write code that prints Hello if 1 is stored in spam, prints Howdy if 2 is stored in spam, and prints Greetings! if anything else is stored in spam.\")\n",
    "spam=int(input(\"enter value of spam=\"))\n",
    "if(spam==1):\n",
    "    print(\"hello\")\n",
    "elif(spam==2):\n",
    "    print(\"howdy\")\n",
    "else:\n",
    "    print(\"greeting\")\n",
    "print(\"-----------------------------------\")\n",
    "import random\n",
    "spam=random.choice([1,2])\n",
    "if(spam==1):\n",
    "    print(\"hello\",\"random choice=\",spam)\n",
    "elif(spam==2):\n",
    "    print(\"howdy\",\"random choice=\",spam)\n",
    "else:\n",
    "    print(\"greeting\",\"random choice=\",spam)\n",
    "print(\"-----------------------------------\")\n"
   ]
  },
  {
   "cell_type": "code",
   "execution_count": null,
   "id": "729457b7-3c9b-42a1-9b67-fc1e69062155",
   "metadata": {},
   "outputs": [],
   "source": []
  },
  {
   "cell_type": "code",
   "execution_count": null,
   "id": "4c3f284d-6445-4ca6-9fed-be9efbb2b74e",
   "metadata": {},
   "outputs": [],
   "source": []
  }
 ],
 "metadata": {
  "kernelspec": {
   "display_name": "Python 3 (ipykernel)",
   "language": "python",
   "name": "python3"
  },
  "language_info": {
   "codemirror_mode": {
    "name": "ipython",
    "version": 3
   },
   "file_extension": ".py",
   "mimetype": "text/x-python",
   "name": "python",
   "nbconvert_exporter": "python",
   "pygments_lexer": "ipython3",
   "version": "3.10.6"
  }
 },
 "nbformat": 4,
 "nbformat_minor": 5
}
